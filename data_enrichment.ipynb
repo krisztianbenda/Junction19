{
 "cells": [
  {
   "cell_type": "code",
   "execution_count": 73,
   "metadata": {},
   "outputs": [
    {
     "data": {
      "text/plain": [
       "True"
      ]
     },
     "execution_count": 73,
     "metadata": {},
     "output_type": "execute_result"
    }
   ],
   "source": [
    "import holidays\n",
    "from datetime import date\n",
    "from datetime import datetime\n",
    "\n",
    "fin_holidays = holidays.Finland()\n",
    "\n",
    "def isHoliday(startTime):\n",
    "    return startTime.date() in fin_holidays\n",
    "\n",
    "def weekdayNumber(startTime):\n",
    "    return startTime.weekday()\n",
    "\n",
    "def isWeekend(startTime):\n",
    "    if weekdayNumber(startTime) < 5:\n",
    "        return False\n",
    "    return True\n",
    "\n",
    "def isBerrySeason(startTime):\n",
    "    if (startTime.month > 7 and startTime.month < 10) or (startTime.month is 7 and startTime.day > 15):\n",
    "            return True\n",
    "    return False\n",
    "\n",
    "def isMushroomSeason(startTime):\n",
    "    if (startTime.month > 5 and startTime.month < 10) or (startTime.month is 5 and startTime.day > 15):\n",
    "            return True\n",
    "    return False\n",
    "\n",
    "def isSchoolSeason(startTime):\n",
    "    if startTime.date().year == 2017:\n",
    "        if date(2017,5,2)<= startTime.date().date() <= date(2017,5,24):\n",
    "            return True\n",
    "        if date(2017,5,29) <= startTime.date() <= date(2017,6,1):\n",
    "            return True\n",
    "        if date(2017, 8, 14)<= startTime.date() <= date(2017,10,13):\n",
    "            return True\n",
    "        if date(2017, 10, 23) <= startTime.date() <= date(2017,12,22):\n",
    "            return True\n",
    "    if startTime.date().year == 2018:\n",
    "        if date(2018,1,8) <= startTime.date() <= date(2018,2,16):\n",
    "             return True\n",
    "        if date(2018,2,26) <= startTime.date() <= date(2018, 3, 28):\n",
    "            return True\n",
    "        if date(2018, 4,3) <= startTime.date() <= date(2018, 4, 27):\n",
    "            return True\n",
    "        if date(2018, 5, 2) <= startTime.date() <= date(2018, 5, 9):\n",
    "            return True\n",
    "        if date(2018, 5, 14) <= startTime.date() <= date(2018, 5, 31):\n",
    "            return True\n",
    "        if date(2018, 8, 9) <= startTime.date() <= date(2018, 10, 12):\n",
    "            return True\n",
    "        if date(2018, 10, 22) <= startTime.date() <= date(2018, 12, 21):\n",
    "            return True\n",
    "    if startTime.date().year == 2019:\n",
    "        if date(2019, 1, 7) <= startTime.date() <= date(2019, 2, 15):\n",
    "            return True\n",
    "        if date(2019, 2, 25) <= startTime.date() <= date(2019, 4, 18):\n",
    "            return True\n",
    "        if startTime.date() is not date(2019,5,1):\n",
    "            return True\n",
    "        if date(2019, 4, 23) <= startTime.date() <= date(2019, 5, 29):\n",
    "            return True\n",
    "        if date(2019, 8, 8) <= startTime.date() <= date(2019, 10, 11):\n",
    "            return True\n",
    "        if date(2019, 10, 21) <= startTime.date() <= date(2019, 12, 20):\n",
    "            return True\n",
    "    if startTime.date().year == 2020:\n",
    "        if date(2020, 1, 7) <= startTime.date() <= date(2020, 2, 14):\n",
    "            return True\n",
    "        if date(2020, 2, 24) <= startTime.date() <= date(2020, 5, 29):\n",
    "            return True\n",
    "    return False\n",
    "\n",
    "isHoliday(datetime.strptime(\"2004.12.24 17:30\", \"%Y.%m.%d %H:%M\"))"
   ]
  },
  {
   "cell_type": "code",
   "execution_count": null,
   "metadata": {},
   "outputs": [],
   "source": []
  }
 ],
 "metadata": {
  "kernelspec": {
   "display_name": "Python 3",
   "language": "python",
   "name": "python3"
  },
  "language_info": {
   "codemirror_mode": {
    "name": "ipython",
    "version": 3
   },
   "file_extension": ".py",
   "mimetype": "text/x-python",
   "name": "python",
   "nbconvert_exporter": "python",
   "pygments_lexer": "ipython3",
   "version": "3.7.4"
  }
 },
 "nbformat": 4,
 "nbformat_minor": 2
}
