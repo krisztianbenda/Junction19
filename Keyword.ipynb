{
 "cells": [
  {
   "cell_type": "code",
   "execution_count": 1,
   "metadata": {},
   "outputs": [
    {
     "name": "stdout",
     "output_type": "stream",
     "text": [
      "<!DOCTYPE html><html lang=en><meta charset=utf-8><meta name=viewport content=\"initial-scale=1, minimum-scale=1, width=device-width\"><title>Error 429 (Too Many Requests)!!1</title><style nonce=\"bIB6plbXKnGhC1WSeR6Uvg\">*{margin:0;padding:0}html,code{font:15px/22px arial,sans-serif}html{background:#fff;color:#222;padding:15px}body{color:#222;text-align:unset;margin:7% auto 0;max-width:390px;min-height:180px;padding:30px 0 15px;}* > body{background:url(//www.google.com/images/errors/robot.png) 100% 5px no-repeat;padding-right:205px}p{margin:11px 0 22px;overflow:hidden}pre{white-space:pre-wrap;}ins{color:#777;text-decoration:none}a img{border:0}@media screen and (max-width:772px){body{background:none;margin-top:0;max-width:none;padding-right:0}}#logo{background:url(//www.google.com/images/branding/googlelogo/1x/googlelogo_color_150x54dp.png) no-repeat;margin-left:-5px}@media only screen and (min-resolution:192dpi){#logo{background:url(//www.google.com/images/branding/googlelogo/2x/googlelogo_color_150x54dp.png) no-repeat 0% 0%/100% 100%;-moz-border-image:url(//www.google.com/images/branding/googlelogo/2x/googlelogo_color_150x54dp.png) 0}}@media only screen and (-webkit-min-device-pixel-ratio:2){#logo{background:url(//www.google.com/images/branding/googlelogo/2x/googlelogo_color_150x54dp.png) no-repeat;-webkit-background-size:100% 100%}}#logo{display:inline-block;height:54px;width:150px}</style><div id=\"af-error-container\"><a href=//www.google.com><span id=logo aria-label=Google></span></a><p><b>429.</b> <ins>That’s an error.</ins><p>We're sorry, but you have sent too many requests to us recently. Please try again later. <ins>That’s all we know.</ins></div>\n"
     ]
    }
   ],
   "source": [
    "import requests\n",
    "\n",
    "keyword='nature'\n",
    "url='https://trends.google.com/trends/explore?date=2017-01-01%202019-11-16&geo=FI&q='+keyword\n",
    "\n",
    "respons=requests.get(url)\n",
    "\n",
    "print(respons.text)"
   ]
  },
  {
   "cell_type": "code",
   "execution_count": 6,
   "metadata": {},
   "outputs": [
    {
     "ename": "ModuleNotFoundError",
     "evalue": "No module named 'pandas.io.json._normalize'",
     "output_type": "error",
     "traceback": [
      "\u001b[0;31m---------------------------------------------------------------------------\u001b[0m",
      "\u001b[0;31mModuleNotFoundError\u001b[0m                       Traceback (most recent call last)",
      "\u001b[0;32m<ipython-input-6-d1eaf7e6778a>\u001b[0m in \u001b[0;36m<module>\u001b[0;34m()\u001b[0m\n\u001b[0;32m----> 1\u001b[0;31m \u001b[0;32mfrom\u001b[0m \u001b[0mpytrends\u001b[0m\u001b[0;34m.\u001b[0m\u001b[0mrequest\u001b[0m \u001b[0;32mimport\u001b[0m \u001b[0mTrendReq\u001b[0m\u001b[0;34m\u001b[0m\u001b[0m\n\u001b[0m\u001b[1;32m      2\u001b[0m \u001b[0;34m\u001b[0m\u001b[0m\n\u001b[1;32m      3\u001b[0m \u001b[0mpytrends\u001b[0m \u001b[0;34m=\u001b[0m \u001b[0mTrendReq\u001b[0m\u001b[0;34m(\u001b[0m\u001b[0mhl\u001b[0m\u001b[0;34m=\u001b[0m\u001b[0;34m'en-US'\u001b[0m\u001b[0;34m,\u001b[0m \u001b[0mtz\u001b[0m\u001b[0;34m=\u001b[0m\u001b[0;36m360\u001b[0m\u001b[0;34m)\u001b[0m\u001b[0;34m\u001b[0m\u001b[0m\n",
      "\u001b[0;32m~/anaconda3/lib/python3.6/site-packages/pytrends/request.py\u001b[0m in \u001b[0;36m<module>\u001b[0;34m()\u001b[0m\n\u001b[1;32m     11\u001b[0m \u001b[0;34m\u001b[0m\u001b[0m\n\u001b[1;32m     12\u001b[0m \u001b[0;34m\u001b[0m\u001b[0m\n\u001b[0;32m---> 13\u001b[0;31m \u001b[0;32mfrom\u001b[0m \u001b[0mpandas\u001b[0m\u001b[0;34m.\u001b[0m\u001b[0mio\u001b[0m\u001b[0;34m.\u001b[0m\u001b[0mjson\u001b[0m\u001b[0;34m.\u001b[0m\u001b[0m_normalize\u001b[0m \u001b[0;32mimport\u001b[0m \u001b[0mnested_to_record\u001b[0m\u001b[0;34m\u001b[0m\u001b[0m\n\u001b[0m\u001b[1;32m     14\u001b[0m \u001b[0;32mfrom\u001b[0m \u001b[0mrequests\u001b[0m\u001b[0;34m.\u001b[0m\u001b[0mpackages\u001b[0m\u001b[0;34m.\u001b[0m\u001b[0murllib3\u001b[0m\u001b[0;34m.\u001b[0m\u001b[0mutil\u001b[0m\u001b[0;34m.\u001b[0m\u001b[0mretry\u001b[0m \u001b[0;32mimport\u001b[0m \u001b[0mRetry\u001b[0m\u001b[0;34m\u001b[0m\u001b[0m\n\u001b[1;32m     15\u001b[0m \u001b[0;34m\u001b[0m\u001b[0m\n",
      "\u001b[0;31mModuleNotFoundError\u001b[0m: No module named 'pandas.io.json._normalize'"
     ]
    }
   ],
   "source": [
    "from pytrends.request import TrendReq\n",
    "\n",
    "pytrends = TrendReq(hl='en-US', tz=360)"
   ]
  },
  {
   "cell_type": "code",
   "execution_count": 4,
   "metadata": {},
   "outputs": [
    {
     "ename": "ModuleNotFoundError",
     "evalue": "No module named 'GT_Automation_Code'",
     "output_type": "error",
     "traceback": [
      "\u001b[0;31m---------------------------------------------------------------------------\u001b[0m",
      "\u001b[0;31mModuleNotFoundError\u001b[0m                       Traceback (most recent call last)",
      "\u001b[0;32m<ipython-input-4-907dcea0d835>\u001b[0m in \u001b[0;36m<module>\u001b[0;34m()\u001b[0m\n\u001b[1;32m      7\u001b[0m \u001b[0;32mimport\u001b[0m \u001b[0mpandas\u001b[0m \u001b[0;32mas\u001b[0m \u001b[0mpd\u001b[0m\u001b[0;34m\u001b[0m\u001b[0m\n\u001b[1;32m      8\u001b[0m \u001b[0;32mfrom\u001b[0m \u001b[0mrandom\u001b[0m \u001b[0;32mimport\u001b[0m \u001b[0mrandint\u001b[0m\u001b[0;34m\u001b[0m\u001b[0m\n\u001b[0;32m----> 9\u001b[0;31m \u001b[0;32mfrom\u001b[0m \u001b[0mGT_Automation_Code\u001b[0m \u001b[0;32mimport\u001b[0m \u001b[0mpyGTrends\u001b[0m\u001b[0;34m\u001b[0m\u001b[0m\n\u001b[0m\u001b[1;32m     10\u001b[0m \u001b[0;34m\u001b[0m\u001b[0m\n",
      "\u001b[0;31mModuleNotFoundError\u001b[0m: No module named 'GT_Automation_Code'"
     ]
    }
   ],
   "source": [
    "# set working directory (location where code is)\n",
    "import os\n",
    " \n",
    "import re\n",
    "import csv\n",
    "import time\n",
    "import pandas as pd\n",
    "from random import randint\n",
    "from GT_Automation_Code import pyGTrends\n",
    " "
   ]
  },
  {
   "cell_type": "code",
   "execution_count": null,
   "metadata": {},
   "outputs": [],
   "source": [
    "# set gmail credentials and path to extract data\n",
    "google_username = \"*****@gmail.com\"\n",
    "google_password = \"*****\"\n",
    " \n",
    "Daily_Data = [ ]"
   ]
  },
  {
   "cell_type": "code",
   "execution_count": null,
   "metadata": {},
   "outputs": [],
   "source": [
    "         \n",
    "# define daily pull code\n",
    "def GT_Daily_Run(keys):\n",
    "     \n",
    "    path = 'path'\n",
    " \n",
    "    # connect to Google\n",
    "    connector = pyGTrends(google_username, google_password)\n",
    "    # make request\n",
    "    connector.request_report(keys, date=\"today 90-d\", geo=\"US\")\n",
    "    # wait a random amount of time between requests to avoid bot detection\n",
    "    time.sleep(randint(5, 10))\n",
    "    # download file\n",
    "    connector.save_csv(path, '_' + \"GT_Daily\" + '_' + keys.replace(' ', '_'))\n",
    " \n",
    "    name = path + '_' + \"GT_Daily\" + '_' + keys.replace(' ', '_')\n",
    "       \n",
    "    with open(name + '.csv', 'rt') as csvfile:    \n",
    "        csvReader = csv.reader(csvfile)\n",
    "        data = []\n",
    " \n",
    "        for row in csvReader:\n",
    "            if any('2015' in s for s in row): \n",
    "                data.append(row)\n",
    " \n",
    "        day_df = pd.DataFrame(data)\n",
    "        cols = [\"Day\", keys]    \n",
    "        day_df.columns = [cols]  \n",
    "        Daily_Data.append(day_df) \n",
    " \n",
    "keywords = ['soccer', 'football', 'baseball']    \n",
    " \n",
    "map(lambda x: GT_Daily_Run(x), keywords)  \n",
    " \n",
    "rge = [Daily_Data[0], Daily_Data[1], Daily_Data[2]]    \n",
    " \n",
    "df_final_daily = reduce(lambda left,right: pd.merge(left,right, on='Day'), rge)\n",
    "df_final_daily = df_final_daily.loc[:, (df_final_daily != \"0\").any(axis=0)]\n",
    "df_final_daily.to_csv(\"Daily_Trends_Data.csv\", index=False)\n",
    " \n",
    "Weekly_Data = [ ]     \n",
    "         \n",
    "# define weekly pull code\n",
    "def GT_Weekly_Run(keys):\n",
    " \n",
    "    path = 'path'\n",
    "     \n",
    "    # connect to Google\n",
    "    connector = pyGTrends(google_username, google_password)\n",
    "    # make request\n",
    "    connector.request_report(keys, geo=\"US\")\n",
    "    # wait a random amount of time between requests to avoid bot detection\n",
    "    time.sleep(randint(5, 10))\n",
    "    # download file\n",
    "    connector.save_csv(path, '_' + \"GT_Weekly\" + '_' + keys.replace(' ', '_'))\n",
    " \n",
    "    name = path + '_' + \"GT_Weekly\" + '_' + keys.replace(' ', '_') \n",
    " \n",
    "    with open(name + '.csv', 'rt') as csvfile:    \n",
    "        csvReader = csv.reader(csvfile)\n",
    "        data = []\n",
    "        datex = re.compile('(19|20)dd-(0[1-9]|1[012])-(0[1-9]|[12][0-9]|3[01])')\n",
    " \n",
    "        for row in csvReader:\n",
    "            if datex.search(str(row)):\n",
    "                data.append(row)\n",
    "        \n",
    "        week_df = pd.DataFrame(data)\n",
    "        cols = [\"Week\", keys]    \n",
    "        week_df.columns = [cols]\n",
    "        Weekly_Data.append(week_df)              \n",
    "              \n",
    "map(lambda x: GT_Weekly_Run(x), keywords)  \n",
    " \n",
    "rge = [Weekly_Data[0], Weekly_Data[1], Weekly_Data[2]]    \n",
    " \n",
    "df_final_weekly = reduce(lambda left,right: pd.merge(left,right, on='Week'), rge)\n",
    "df_final_weekly = df_final_weekly.loc[:, (df_final_weekly != \"0\").any(axis=0)] \n",
    "df_final_weekly.to_csv(\"Weekly_Trends_D"
   ]
  }
 ],
 "metadata": {
  "kernelspec": {
   "display_name": "Python 3",
   "language": "python",
   "name": "python3"
  },
  "language_info": {
   "codemirror_mode": {
    "name": "ipython",
    "version": 3
   },
   "file_extension": ".py",
   "mimetype": "text/x-python",
   "name": "python",
   "nbconvert_exporter": "python",
   "pygments_lexer": "ipython3",
   "version": "3.6.4"
  }
 },
 "nbformat": 4,
 "nbformat_minor": 2
}
