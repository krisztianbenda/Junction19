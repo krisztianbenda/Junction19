{
 "cells": [
  {
   "cell_type": "code",
   "execution_count": 180,
   "metadata": {},
   "outputs": [],
   "source": [
    "import pandas as pd\n",
    "import holidays"
   ]
  },
  {
   "cell_type": "code",
   "execution_count": 24,
   "metadata": {},
   "outputs": [],
   "source": [
    "from xlsx2csv import Xlsx2csv"
   ]
  },
  {
   "cell_type": "code",
   "execution_count": 25,
   "metadata": {},
   "outputs": [],
   "source": [
    "Xlsx2csv(\"../data/CounterData_Nuuksio and Pallas-Ylläs.xlsx\", outputencoding=\"utf-8\").convert(\"myfile.csv\")"
   ]
  },
  {
   "cell_type": "code",
   "execution_count": 134,
   "metadata": {},
   "outputs": [],
   "source": [
    "df = pd.read_csv('myfile.csv')"
   ]
  },
  {
   "cell_type": "code",
   "execution_count": 163,
   "metadata": {},
   "outputs": [],
   "source": [
    "df['StartTime'] = pd.to_datetime(df['StartTime'])\n",
    "df['EndTime'] = pd.to_datetime(df['EndTime'])"
   ]
  },
  {
   "cell_type": "code",
   "execution_count": 35,
   "metadata": {},
   "outputs": [],
   "source": [
    "df['time_diff'] = df['EndTime'] - df['StartTime']"
   ]
  },
  {
   "cell_type": "code",
   "execution_count": 37,
   "metadata": {},
   "outputs": [],
   "source": [
    "import datetime"
   ]
  },
  {
   "cell_type": "code",
   "execution_count": 50,
   "metadata": {},
   "outputs": [],
   "source": [
    "df.reset_index(inplace=True, drop=True)"
   ]
  },
  {
   "cell_type": "code",
   "execution_count": 52,
   "metadata": {},
   "outputs": [],
   "source": [
    "from pyproj import Proj, transform"
   ]
  },
  {
   "cell_type": "code",
   "execution_count": 80,
   "metadata": {},
   "outputs": [],
   "source": [
    "x, y = 377533.0, 7550971.0"
   ]
  },
  {
   "cell_type": "code",
   "execution_count": 84,
   "metadata": {},
   "outputs": [
    {
     "name": "stdout",
     "output_type": "stream",
     "text": [
      "68.04659828968704 24.0636735398413\n"
     ]
    }
   ],
   "source": [
    "in1 = Proj(init='epsg:3067')\n",
    "out1 = Proj(init='epsg:4326')\n",
    "\n",
    "y2,x2 = transform(in1, out1, x, y)\n",
    "print(x2,y2)"
   ]
  },
  {
   "cell_type": "code",
   "execution_count": 114,
   "metadata": {},
   "outputs": [],
   "source": [
    "df['North_East'] = df['PAVE_Counters.CoordinateNorth'].astype('str') + ' ' + df['PAVE_Counters.CoordinateEast'].astype('str')"
   ]
  },
  {
   "cell_type": "code",
   "execution_count": 118,
   "metadata": {},
   "outputs": [],
   "source": [
    "coordinates = df['North_East'].unique().tolist()"
   ]
  },
  {
   "cell_type": "code",
   "execution_count": 120,
   "metadata": {},
   "outputs": [],
   "source": [
    "def f(y1, x1):\n",
    "    in1 = Proj(init='epsg:3067')\n",
    "    out1 = Proj(init='epsg:4326')\n",
    "    \n",
    "    y2, x2 = transform(in1, out1, x1, y1)\n",
    "    return x2, y2\n",
    "\n",
    "\n",
    "all_row = []\n",
    "columns = ['North', 'East', 'Lat', 'Lon']\n",
    "for cords in coordinates:\n",
    "    n = cords.split()[0]\n",
    "    e = cords.split()[1]\n",
    "    \n",
    "    lat, lon = f(n, e)\n",
    "    row = [n, e, lat, lon]\n",
    "    \n",
    "    all_row.append(row)\n",
    "\n",
    "df = pd.DataFrame(all_row, columns=columns)    "
   ]
  },
  {
   "cell_type": "code",
   "execution_count": 129,
   "metadata": {},
   "outputs": [],
   "source": [
    "import numpy as np\n",
    "df.replace('nan', np.nan, inplace=True)"
   ]
  },
  {
   "cell_type": "code",
   "execution_count": 131,
   "metadata": {},
   "outputs": [],
   "source": [
    "df.dropna(axis=0, how='any', inplace=True)"
   ]
  },
  {
   "cell_type": "code",
   "execution_count": 133,
   "metadata": {},
   "outputs": [],
   "source": [
    "df_cords = df.copy()"
   ]
  },
  {
   "cell_type": "code",
   "execution_count": 140,
   "metadata": {},
   "outputs": [],
   "source": [
    "df_cords['North'] = df_cords['North'].astype('float')\n",
    "df_cords['East'] = df_cords['East'].astype('float')"
   ]
  },
  {
   "cell_type": "code",
   "execution_count": 141,
   "metadata": {},
   "outputs": [],
   "source": [
    "df_joined = pd.merge(left=df, right=df_cords, left_on=['PAVE_Counters.CoordinateNorth', 'PAVE_Counters.CoordinateEast'], right_on=['North', 'East'])"
   ]
  },
  {
   "cell_type": "code",
   "execution_count": 142,
   "metadata": {},
   "outputs": [
    {
     "data": {
      "text/plain": [
       "(565341, 23)"
      ]
     },
     "execution_count": 142,
     "metadata": {},
     "output_type": "execute_result"
    }
   ],
   "source": [
    "df_joined.shape"
   ]
  },
  {
   "cell_type": "code",
   "execution_count": 144,
   "metadata": {},
   "outputs": [],
   "source": [
    "import matplotlib.pyplot as plt"
   ]
  },
  {
   "cell_type": "code",
   "execution_count": 147,
   "metadata": {},
   "outputs": [
    {
     "data": {
      "text/plain": [
       "<matplotlib.collections.PathCollection at 0x12ae8d860>"
      ]
     },
     "execution_count": 147,
     "metadata": {},
     "output_type": "execute_result"
    },
    {
     "data": {
      "image/png": "[encoded data removed]",
      "text/plain": [
       "<Figure size 432x288 with 1 Axes>"
      ]
     },
     "metadata": {
      "needs_background": "light"
     },
     "output_type": "display_data"
    }
   ],
   "source": [
    "plt.scatter(df_joined['Lat'], df_joined['Lon'])"
   ]
  },
  {
   "cell_type": "code",
   "execution_count": 148,
   "metadata": {},
   "outputs": [],
   "source": [
    "plt.show()"
   ]
  },
  {
   "cell_type": "code",
   "execution_count": 149,
   "metadata": {},
   "outputs": [],
   "source": [
    "from sklearn.cluster import KMeans"
   ]
  },
  {
   "cell_type": "code",
   "execution_count": 150,
   "metadata": {},
   "outputs": [],
   "source": [
    "model = KMeans(n_clusters=3)"
   ]
  },
  {
   "cell_type": "code",
   "execution_count": 151,
   "metadata": {},
   "outputs": [
    {
     "data": {
      "text/plain": [
       "KMeans(algorithm='auto', copy_x=True, init='k-means++', max_iter=300,\n",
       "    n_clusters=3, n_init=10, n_jobs=None, precompute_distances='auto',\n",
       "    random_state=None, tol=0.0001, verbose=0)"
      ]
     },
     "execution_count": 151,
     "metadata": {},
     "output_type": "execute_result"
    }
   ],
   "source": [
    "model.fit(df_joined[['Lat', 'Lon']])"
   ]
  },
  {
   "cell_type": "code",
   "execution_count": 152,
   "metadata": {},
   "outputs": [],
   "source": [
    "df_joined['cluster_id'] = model.predict(df_joined[['Lat', 'Lon']])"
   ]
  },
  {
   "cell_type": "code",
   "execution_count": 155,
   "metadata": {},
   "outputs": [
    {
     "data": {
      "text/plain": [
       "<matplotlib.collections.PathCollection at 0x11f453160>"
      ]
     },
     "execution_count": 155,
     "metadata": {},
     "output_type": "execute_result"
    },
    {
     "data": {
      "image/png": "[encoded data removed]",
      "text/plain": [
       "<Figure size 432x288 with 1 Axes>"
      ]
     },
     "metadata": {
      "needs_background": "light"
     },
     "output_type": "display_data"
    }
   ],
   "source": [
    "plt.scatter(df_joined['Lat'], df_joined['Lon'], c=df_joined['cluster_id'])"
   ]
  },
  {
   "cell_type": "code",
   "execution_count": 156,
   "metadata": {},
   "outputs": [],
   "source": [
    "plt.show()"
   ]
  },
  {
   "cell_type": "code",
   "execution_count": 157,
   "metadata": {},
   "outputs": [
    {
     "data": {
      "text/plain": [
       "array([[67.60405171, 24.24368706],\n",
       "       [60.30442087, 24.49646922],\n",
       "       [68.10265115, 24.01885602]])"
      ]
     },
     "execution_count": 157,
     "metadata": {},
     "output_type": "execute_result"
    }
   ],
   "source": [
    "model.cluster_centers_"
   ]
  },
  {
   "cell_type": "code",
   "execution_count": 158,
   "metadata": {},
   "outputs": [],
   "source": [
    "cluster_centers = {0: [67.60405171, 24.24368706], 1: [60.30442087, 24.49646922], 2: [68.10265115, 24.01885602]}"
   ]
  },
  {
   "cell_type": "code",
   "execution_count": 160,
   "metadata": {},
   "outputs": [],
   "source": [
    "df_weather_0 = pd.read_csv('./cluster_0_weather.csv')"
   ]
  },
  {
   "cell_type": "code",
   "execution_count": 165,
   "metadata": {},
   "outputs": [],
   "source": [
    "df_joined.to_csv('Cords_and_Cluster.csv', index=False)"
   ]
  },
  {
   "cell_type": "markdown",
   "metadata": {},
   "source": [
    "### Using numbers generated CSV"
   ]
  },
  {
   "cell_type": "code",
   "execution_count": 213,
   "metadata": {},
   "outputs": [],
   "source": [
    "df_new = pd.read_csv('../data/zamzar_exported.csv', sep=',')"
   ]
  },
  {
   "cell_type": "code",
   "execution_count": 220,
   "metadata": {},
   "outputs": [],
   "source": [
    "df_new['PAVE_Counters.CoordinateNorth'].replace('nan', np.nan, inplace=True)\n",
    "df_new['PAVE_Counters.CoordinateEast'].replace('nan', np.nan, inplace=True)"
   ]
  },
  {
   "cell_type": "code",
   "execution_count": 222,
   "metadata": {},
   "outputs": [
    {
     "data": {
      "text/plain": [
       "CounterReadingID                      0\n",
       "CounterID_ASTA                        0\n",
       "SequenceNumber                        0\n",
       "StartTime                             0\n",
       "EndTime                               0\n",
       "Visits                                0\n",
       "ASTA_Counters.CounterID_PAVE         16\n",
       "ASTA_Counters.Name_ASTA               0\n",
       "ASTA_Counters.InstallationDate       76\n",
       "ASTA_Counters.NationalParkCode        0\n",
       "ASTA_Counters.Municipality            0\n",
       "ASTA_Counters.RegionalUnit            0\n",
       "ASTA_Counters.RegionalEntity         10\n",
       "PAVE_Counters.Globalid              217\n",
       "PAVE_Counters.Name                  217\n",
       "PAVE_Counters.Manager               332\n",
       "PAVE_Counters.AdditionalInfo      84759\n",
       "PAVE_Counters.CoordinateNorth       217\n",
       "PAVE_Counters.CoordinateEast        217\n",
       "dtype: int64"
      ]
     },
     "execution_count": 222,
     "metadata": {},
     "output_type": "execute_result"
    }
   ],
   "source": [
    "df_new.isnull().sum()"
   ]
  },
  {
   "cell_type": "code",
   "execution_count": 217,
   "metadata": {},
   "outputs": [
    {
     "data": {
      "text/plain": [
       "(565341, 24)"
      ]
     },
     "execution_count": 217,
     "metadata": {},
     "output_type": "execute_result"
    }
   ],
   "source": [
    "df_joined.shape"
   ]
  },
  {
   "cell_type": "code",
   "execution_count": 225,
   "metadata": {},
   "outputs": [],
   "source": [
    "df_new.dropna(axis='index', subset=['PAVE_Counters.CoordinateEast', 'PAVE_Counters.CoordinateNorth'], inplace=True)"
   ]
  },
  {
   "cell_type": "code",
   "execution_count": 226,
   "metadata": {},
   "outputs": [
    {
     "data": {
      "text/plain": [
       "(565341, 19)"
      ]
     },
     "execution_count": 226,
     "metadata": {},
     "output_type": "execute_result"
    }
   ],
   "source": [
    "df_new.shape"
   ]
  },
  {
   "cell_type": "code",
   "execution_count": 227,
   "metadata": {},
   "outputs": [],
   "source": [
    "df_new['cluster_id'] = model.labels_"
   ]
  },
  {
   "cell_type": "code",
   "execution_count": 230,
   "metadata": {},
   "outputs": [],
   "source": [
    "df_new['StartTime'] = pd.to_datetime(df_new['StartTime'])\n",
    "df_new['EndTime'] = pd.to_datetime(df_new['EndTime'])"
   ]
  },
  {
   "cell_type": "code",
   "execution_count": 231,
   "metadata": {},
   "outputs": [
    {
     "data": {
      "text/plain": [
       "array([15, 19, 20, 21, 22, 23,  0,  1,  2,  3,  4,  5,  6,  7, 16, 18,  8,\n",
       "       17,  9, 12, 13, 14, 10, 11])"
      ]
     },
     "execution_count": 231,
     "metadata": {},
     "output_type": "execute_result"
    }
   ],
   "source": [
    "df_new['StartTime'].dt.hour.unique()"
   ]
  },
  {
   "cell_type": "code",
   "execution_count": 232,
   "metadata": {},
   "outputs": [],
   "source": [
    "df_new['time_diff'] = df_new['EndTime'] - df_new['StartTime']"
   ]
  },
  {
   "cell_type": "code",
   "execution_count": 234,
   "metadata": {},
   "outputs": [],
   "source": [
    "df_201705 = df_new[df_new['StartTime'] >= datetime.datetime(2017,5,1)].copy()"
   ]
  },
  {
   "cell_type": "code",
   "execution_count": 236,
   "metadata": {},
   "outputs": [
    {
     "data": {
      "text/plain": [
       "(358362, 21)"
      ]
     },
     "execution_count": 236,
     "metadata": {},
     "output_type": "execute_result"
    }
   ],
   "source": [
    "df_201705.shape"
   ]
  },
  {
   "cell_type": "code",
   "execution_count": 237,
   "metadata": {},
   "outputs": [],
   "source": [
    "df_201705 = df_201705[df_201705['time_diff'] == datetime.timedelta(hours=1)]"
   ]
  },
  {
   "cell_type": "code",
   "execution_count": 238,
   "metadata": {},
   "outputs": [
    {
     "data": {
      "text/plain": [
       "01:00:00    357781\n",
       "Name: time_diff, dtype: int64"
      ]
     },
     "execution_count": 238,
     "metadata": {},
     "output_type": "execute_result"
    }
   ],
   "source": [
    "df_201705['time_diff'].value_counts()"
   ]
  },
  {
   "cell_type": "markdown",
   "metadata": {},
   "source": [
    "### JOIN weather data"
   ]
  },
  {
   "cell_type": "code",
   "execution_count": 263,
   "metadata": {},
   "outputs": [],
   "source": [
    "weather_0 = pd.read_csv('cluster_0_weather.csv')\n",
    "weather_1 = pd.read_csv('cluster_1_weather.csv')\n",
    "weather_2 = pd.read_csv('cluster_2_weather.csv')"
   ]
  },
  {
   "cell_type": "code",
   "execution_count": 264,
   "metadata": {},
   "outputs": [],
   "source": [
    "weather = pd.concat([weather_0, weather_1, weather_2])"
   ]
  },
  {
   "cell_type": "code",
   "execution_count": 267,
   "metadata": {},
   "outputs": [
    {
     "data": {
      "text/html": [
       "<div>\n",
       "<style scoped>\n",
       "    .dataframe tbody tr th:only-of-type {\n",
       "        vertical-align: middle;\n",
       "    }\n",
       "\n",
       "    .dataframe tbody tr th {\n",
       "        vertical-align: top;\n",
       "    }\n",
       "\n",
       "    .dataframe thead th {\n",
       "        text-align: right;\n",
       "    }\n",
       "</style>\n",
       "<table border=\"1\" class=\"dataframe\">\n",
       "  <thead>\n",
       "    <tr style=\"text-align: right;\">\n",
       "      <th></th>\n",
       "      <th>time</th>\n",
       "      <th>precip_intensity</th>\n",
       "      <th>precip_type</th>\n",
       "      <th>precip_probability</th>\n",
       "      <th>temperature</th>\n",
       "      <th>humidity</th>\n",
       "      <th>wind_speed</th>\n",
       "      <th>wind_gust</th>\n",
       "      <th>cloud_cover</th>\n",
       "      <th>visibility</th>\n",
       "      <th>cluster_id</th>\n",
       "    </tr>\n",
       "  </thead>\n",
       "  <tbody>\n",
       "    <tr>\n",
       "      <th>0</th>\n",
       "      <td>2019-10-10 00:00:00</td>\n",
       "      <td>0.0333</td>\n",
       "      <td>rain</td>\n",
       "      <td>0.10</td>\n",
       "      <td>3.82</td>\n",
       "      <td>0.73</td>\n",
       "      <td>2.43</td>\n",
       "      <td>4.14</td>\n",
       "      <td>1.0</td>\n",
       "      <td>10.054</td>\n",
       "      <td>0</td>\n",
       "    </tr>\n",
       "    <tr>\n",
       "      <th>1</th>\n",
       "      <td>2019-10-10 01:00:00</td>\n",
       "      <td>0.0365</td>\n",
       "      <td>rain</td>\n",
       "      <td>0.09</td>\n",
       "      <td>2.65</td>\n",
       "      <td>0.73</td>\n",
       "      <td>2.99</td>\n",
       "      <td>3.45</td>\n",
       "      <td>1.0</td>\n",
       "      <td>10.121</td>\n",
       "      <td>0</td>\n",
       "    </tr>\n",
       "  </tbody>\n",
       "</table>\n",
       "</div>"
      ],
      "text/plain": [
       "                  time  precip_intensity precip_type  precip_probability  \\\n",
       "0  2019-10-10 00:00:00            0.0333        rain                0.10   \n",
       "1  2019-10-10 01:00:00            0.0365        rain                0.09   \n",
       "\n",
       "   temperature  humidity  wind_speed  wind_gust  cloud_cover  visibility  \\\n",
       "0         3.82      0.73        2.43       4.14          1.0      10.054   \n",
       "1         2.65      0.73        2.99       3.45          1.0      10.121   \n",
       "\n",
       "   cluster_id  \n",
       "0           0  \n",
       "1           0  "
      ]
     },
     "execution_count": 267,
     "metadata": {},
     "output_type": "execute_result"
    }
   ],
   "source": [
    "weather.head(2)"
   ]
  },
  {
   "cell_type": "code",
   "execution_count": 266,
   "metadata": {},
   "outputs": [],
   "source": [
    "weather['time'] = weather['time'].str[:-6]"
   ]
  },
  {
   "cell_type": "code",
   "execution_count": 268,
   "metadata": {},
   "outputs": [],
   "source": [
    "weather['time'] = pd.to_datetime(weather['time'])"
   ]
  },
  {
   "cell_type": "code",
   "execution_count": 269,
   "metadata": {},
   "outputs": [
    {
     "data": {
      "text/plain": [
       "time                  datetime64[ns]\n",
       "precip_intensity             float64\n",
       "precip_type                   object\n",
       "precip_probability           float64\n",
       "temperature                  float64\n",
       "humidity                     float64\n",
       "wind_speed                   float64\n",
       "wind_gust                    float64\n",
       "cloud_cover                  float64\n",
       "visibility                   float64\n",
       "cluster_id                     int64\n",
       "dtype: object"
      ]
     },
     "execution_count": 269,
     "metadata": {},
     "output_type": "execute_result"
    }
   ],
   "source": [
    "weather.dtypes"
   ]
  },
  {
   "cell_type": "code",
   "execution_count": 242,
   "metadata": {},
   "outputs": [
    {
     "data": {
      "text/plain": [
       "(357781, 21)"
      ]
     },
     "execution_count": 242,
     "metadata": {},
     "output_type": "execute_result"
    }
   ],
   "source": [
    "df_201705.shape"
   ]
  },
  {
   "cell_type": "code",
   "execution_count": 270,
   "metadata": {},
   "outputs": [],
   "source": [
    "df_jo = pd.merge(left=df_201705, right=weather, left_on=['StartTime', 'cluster_id'], right_on=['time', 'cluster_id'])"
   ]
  },
  {
   "cell_type": "code",
   "execution_count": 271,
   "metadata": {},
   "outputs": [
    {
     "data": {
      "text/plain": [
       "(357071, 31)"
      ]
     },
     "execution_count": 271,
     "metadata": {},
     "output_type": "execute_result"
    }
   ],
   "source": [
    "df_jo.shape"
   ]
  },
  {
   "cell_type": "code",
   "execution_count": 273,
   "metadata": {},
   "outputs": [],
   "source": [
    "df_jo.to_csv('good_data_with_weather.csv', index=False)"
   ]
  },
  {
   "cell_type": "markdown",
   "metadata": {},
   "source": [
    "### Adding Holiday Code"
   ]
  },
  {
   "cell_type": "code",
   "execution_count": 278,
   "metadata": {},
   "outputs": [],
   "source": [
    "df_jo['is_holiday'] = df_jo['StartTime'].apply(isHoliday)\n",
    "df_jo['weekDayNumber'] = df_jo['StartTime'].apply(weekdayNumber)\n",
    "df_jo['is_weekend'] = df_jo['StartTime'].apply(isWeekend)\n",
    "df_jo['berry_season'] = df_jo['StartTime'].apply(isBerrySeason)\n",
    "df_jo['mushroom_season'] = df_jo['StartTime'].apply(isMushroomSeason)"
   ]
  },
  {
   "cell_type": "code",
   "execution_count": 277,
   "metadata": {},
   "outputs": [],
   "source": [
    "df_jo['school_season'] = df_jo['StartTime'].apply(isSchoolSeason)"
   ]
  },
  {
   "cell_type": "code",
   "execution_count": 276,
   "metadata": {},
   "outputs": [
    {
     "data": {
      "text/plain": [
       "True"
      ]
     },
     "execution_count": 276,
     "metadata": {},
     "output_type": "execute_result"
    }
   ],
   "source": [
    "import holidays\n",
    "from datetime import date\n",
    "from datetime import datetime\n",
    "\n",
    "fin_holidays = holidays.Finland()\n",
    "\n",
    "def isHoliday(startTime):\n",
    "    return startTime.date() in fin_holidays\n",
    "\n",
    "def weekdayNumber(startTime):\n",
    "    return startTime.weekday()\n",
    "\n",
    "def isWeekend(startTime):\n",
    "    if weekdayNumber(startTime) < 5:\n",
    "        return False\n",
    "    return True\n",
    "\n",
    "def isBerrySeason(startTime):\n",
    "    if (startTime.month > 7 and startTime.month < 10) or (startTime.month is 7 and startTime.day > 15):\n",
    "            return True\n",
    "    return False\n",
    "\n",
    "def isMushroomSeason(startTime):\n",
    "    if (startTime.month > 5 and startTime.month < 10) or (startTime.month is 5 and startTime.day > 15):\n",
    "            return True\n",
    "    return False\n",
    "\n",
    "def isSchoolSeason(startTime):\n",
    "    if startTime.date().year == 2017:\n",
    "        if date(2017,5,2)<= startTime.date() <= date(2017,5,24):\n",
    "            return True\n",
    "        if date(2017,5,29) <= startTime.date() <= date(2017,6,1):\n",
    "            return True\n",
    "        if date(2017, 8, 14)<= startTime.date() <= date(2017,10,13):\n",
    "            return True\n",
    "        if date(2017, 10, 23) <= startTime.date() <= date(2017,12,22):\n",
    "            return True\n",
    "    if startTime.date().year == 2018:\n",
    "        if date(2018,1,8) <= startTime.date() <= date(2018,2,16):\n",
    "             return True\n",
    "        if date(2018,2,26) <= startTime.date() <= date(2018, 3, 28):\n",
    "            return True\n",
    "        if date(2018, 4,3) <= startTime.date() <= date(2018, 4, 27):\n",
    "            return True\n",
    "        if date(2018, 5, 2) <= startTime.date() <= date(2018, 5, 9):\n",
    "            return True\n",
    "        if date(2018, 5, 14) <= startTime.date() <= date(2018, 5, 31):\n",
    "            return True\n",
    "        if date(2018, 8, 9) <= startTime.date() <= date(2018, 10, 12):\n",
    "            return True\n",
    "        if date(2018, 10, 22) <= startTime.date() <= date(2018, 12, 21):\n",
    "            return True\n",
    "    if startTime.date().year == 2019:\n",
    "        if date(2019, 1, 7) <= startTime.date() <= date(2019, 2, 15):\n",
    "            return True\n",
    "        if date(2019, 2, 25) <= startTime.date() <= date(2019, 4, 18):\n",
    "            return True\n",
    "        if startTime.date() is not date(2019,5,1):\n",
    "            return True\n",
    "        if date(2019, 4, 23) <= startTime.date() <= date(2019, 5, 29):\n",
    "            return True\n",
    "        if date(2019, 8, 8) <= startTime.date() <= date(2019, 10, 11):\n",
    "            return True\n",
    "        if date(2019, 10, 21) <= startTime.date() <= date(2019, 12, 20):\n",
    "            return True\n",
    "    if startTime.date().year == 2020:\n",
    "        if date(2020, 1, 7) <= startTime.date() <= date(2020, 2, 14):\n",
    "            return True\n",
    "        if date(2020, 2, 24) <= startTime.date() <= date(2020, 5, 29):\n",
    "            return True\n",
    "    return False\n",
    "\n",
    "isHoliday(datetime.strptime(\"2004.12.24 17:30\", \"%Y.%m.%d %H:%M\"))"
   ]
  },
  {
   "cell_type": "code",
   "execution_count": 280,
   "metadata": {},
   "outputs": [
    {
     "data": {
      "text/html": [
       "<div>\n",
       "<style scoped>\n",
       "    .dataframe tbody tr th:only-of-type {\n",
       "        vertical-align: middle;\n",
       "    }\n",
       "\n",
       "    .dataframe tbody tr th {\n",
       "        vertical-align: top;\n",
       "    }\n",
       "\n",
       "    .dataframe thead th {\n",
       "        text-align: right;\n",
       "    }\n",
       "</style>\n",
       "<table border=\"1\" class=\"dataframe\">\n",
       "  <thead>\n",
       "    <tr style=\"text-align: right;\">\n",
       "      <th></th>\n",
       "      <th>CounterReadingID</th>\n",
       "      <th>CounterID_ASTA</th>\n",
       "      <th>SequenceNumber</th>\n",
       "      <th>StartTime</th>\n",
       "      <th>EndTime</th>\n",
       "      <th>Visits</th>\n",
       "      <th>ASTA_Counters.CounterID_PAVE</th>\n",
       "      <th>ASTA_Counters.Name_ASTA</th>\n",
       "      <th>ASTA_Counters.InstallationDate</th>\n",
       "      <th>ASTA_Counters.NationalParkCode</th>\n",
       "      <th>...</th>\n",
       "      <th>wind_speed</th>\n",
       "      <th>wind_gust</th>\n",
       "      <th>cloud_cover</th>\n",
       "      <th>visibility</th>\n",
       "      <th>is_holiday</th>\n",
       "      <th>weekDayNumber</th>\n",
       "      <th>is_weekend</th>\n",
       "      <th>berry_season</th>\n",
       "      <th>mushroom_season</th>\n",
       "      <th>school_season</th>\n",
       "    </tr>\n",
       "  </thead>\n",
       "  <tbody>\n",
       "    <tr>\n",
       "      <th>0</th>\n",
       "      <td>1663271</td>\n",
       "      <td>1099</td>\n",
       "      <td>16656</td>\n",
       "      <td>2017-06-13 12:00:00</td>\n",
       "      <td>2017-06-13 13:00:00</td>\n",
       "      <td>0</td>\n",
       "      <td>190927.0</td>\n",
       "      <td>Varkaankuru 2013</td>\n",
       "      <td>7/12/2013 0:00</td>\n",
       "      <td>34361</td>\n",
       "      <td>...</td>\n",
       "      <td>3.05</td>\n",
       "      <td>NaN</td>\n",
       "      <td>0.18</td>\n",
       "      <td>10.003</td>\n",
       "      <td>False</td>\n",
       "      <td>1</td>\n",
       "      <td>False</td>\n",
       "      <td>False</td>\n",
       "      <td>True</td>\n",
       "      <td>False</td>\n",
       "    </tr>\n",
       "    <tr>\n",
       "      <th>1</th>\n",
       "      <td>1662793</td>\n",
       "      <td>1139</td>\n",
       "      <td>2683</td>\n",
       "      <td>2017-06-13 12:00:00</td>\n",
       "      <td>2017-06-13 13:00:00</td>\n",
       "      <td>0</td>\n",
       "      <td>190693.0</td>\n",
       "      <td>Tuomikuru</td>\n",
       "      <td>7/16/2014 0:00</td>\n",
       "      <td>34361</td>\n",
       "      <td>...</td>\n",
       "      <td>3.05</td>\n",
       "      <td>NaN</td>\n",
       "      <td>0.18</td>\n",
       "      <td>10.003</td>\n",
       "      <td>False</td>\n",
       "      <td>1</td>\n",
       "      <td>False</td>\n",
       "      <td>False</td>\n",
       "      <td>True</td>\n",
       "      <td>False</td>\n",
       "    </tr>\n",
       "    <tr>\n",
       "      <th>2</th>\n",
       "      <td>1635880</td>\n",
       "      <td>1098</td>\n",
       "      <td>37641</td>\n",
       "      <td>2017-06-13 12:00:00</td>\n",
       "      <td>2017-06-13 13:00:00</td>\n",
       "      <td>0</td>\n",
       "      <td>78755.0</td>\n",
       "      <td>Kahvikeidas 2013</td>\n",
       "      <td>2/1/2013 0:00</td>\n",
       "      <td>34361</td>\n",
       "      <td>...</td>\n",
       "      <td>3.05</td>\n",
       "      <td>NaN</td>\n",
       "      <td>0.18</td>\n",
       "      <td>10.003</td>\n",
       "      <td>False</td>\n",
       "      <td>1</td>\n",
       "      <td>False</td>\n",
       "      <td>False</td>\n",
       "      <td>True</td>\n",
       "      <td>False</td>\n",
       "    </tr>\n",
       "  </tbody>\n",
       "</table>\n",
       "<p>3 rows × 37 columns</p>\n",
       "</div>"
      ],
      "text/plain": [
       "   CounterReadingID  CounterID_ASTA  SequenceNumber           StartTime  \\\n",
       "0           1663271            1099           16656 2017-06-13 12:00:00   \n",
       "1           1662793            1139            2683 2017-06-13 12:00:00   \n",
       "2           1635880            1098           37641 2017-06-13 12:00:00   \n",
       "\n",
       "              EndTime  Visits  ASTA_Counters.CounterID_PAVE  \\\n",
       "0 2017-06-13 13:00:00       0                      190927.0   \n",
       "1 2017-06-13 13:00:00       0                      190693.0   \n",
       "2 2017-06-13 13:00:00       0                       78755.0   \n",
       "\n",
       "  ASTA_Counters.Name_ASTA ASTA_Counters.InstallationDate  \\\n",
       "0        Varkaankuru 2013                 7/12/2013 0:00   \n",
       "1               Tuomikuru                 7/16/2014 0:00   \n",
       "2        Kahvikeidas 2013                  2/1/2013 0:00   \n",
       "\n",
       "   ASTA_Counters.NationalParkCode  ...  wind_speed  wind_gust  cloud_cover  \\\n",
       "0                           34361  ...        3.05        NaN         0.18   \n",
       "1                           34361  ...        3.05        NaN         0.18   \n",
       "2                           34361  ...        3.05        NaN         0.18   \n",
       "\n",
       "  visibility is_holiday weekDayNumber is_weekend  berry_season  \\\n",
       "0     10.003      False             1      False         False   \n",
       "1     10.003      False             1      False         False   \n",
       "2     10.003      False             1      False         False   \n",
       "\n",
       "   mushroom_season  school_season  \n",
       "0             True          False  \n",
       "1             True          False  \n",
       "2             True          False  \n",
       "\n",
       "[3 rows x 37 columns]"
      ]
     },
     "execution_count": 280,
     "metadata": {},
     "output_type": "execute_result"
    }
   ],
   "source": [
    "df_jo.head(3)"
   ]
  },
  {
   "cell_type": "code",
   "execution_count": 281,
   "metadata": {},
   "outputs": [],
   "source": [
    "df_jo.to_csv('data_weather_holiday.csv', index=False)"
   ]
  },
  {
   "cell_type": "code",
   "execution_count": 283,
   "metadata": {},
   "outputs": [],
   "source": [
    "asd = pd.DataFrame([[1,2], [3,4]], columns =['A', 'B'])"
   ]
  },
  {
   "cell_type": "code",
   "execution_count": 284,
   "metadata": {},
   "outputs": [
    {
     "data": {
      "text/html": [
       "<div>\n",
       "<style scoped>\n",
       "    .dataframe tbody tr th:only-of-type {\n",
       "        vertical-align: middle;\n",
       "    }\n",
       "\n",
       "    .dataframe tbody tr th {\n",
       "        vertical-align: top;\n",
       "    }\n",
       "\n",
       "    .dataframe thead th {\n",
       "        text-align: right;\n",
       "    }\n",
       "</style>\n",
       "<table border=\"1\" class=\"dataframe\">\n",
       "  <thead>\n",
       "    <tr style=\"text-align: right;\">\n",
       "      <th></th>\n",
       "      <th>A</th>\n",
       "      <th>B</th>\n",
       "    </tr>\n",
       "  </thead>\n",
       "  <tbody>\n",
       "    <tr>\n",
       "      <th>0</th>\n",
       "      <td>1</td>\n",
       "      <td>2</td>\n",
       "    </tr>\n",
       "    <tr>\n",
       "      <th>1</th>\n",
       "      <td>3</td>\n",
       "      <td>4</td>\n",
       "    </tr>\n",
       "  </tbody>\n",
       "</table>\n",
       "</div>"
      ],
      "text/plain": [
       "   A  B\n",
       "0  1  2\n",
       "1  3  4"
      ]
     },
     "execution_count": 284,
     "metadata": {},
     "output_type": "execute_result"
    }
   ],
   "source": [
    "asd"
   ]
  },
  {
   "cell_type": "code",
   "execution_count": 285,
   "metadata": {},
   "outputs": [],
   "source": [
    "asd['C'] = 0\n",
    "asd['D'] = 0"
   ]
  },
  {
   "cell_type": "code",
   "execution_count": 286,
   "metadata": {},
   "outputs": [],
   "source": [
    "def fv(x):\n",
    "    return 1, 2"
   ]
  },
  {
   "cell_type": "code",
   "execution_count": 287,
   "metadata": {},
   "outputs": [],
   "source": [
    "asd[['C', 'D']] = asd.apply(fv ,axis=1)"
   ]
  },
  {
   "cell_type": "code",
   "execution_count": 288,
   "metadata": {},
   "outputs": [
    {
     "data": {
      "text/html": [
       "<div>\n",
       "<style scoped>\n",
       "    .dataframe tbody tr th:only-of-type {\n",
       "        vertical-align: middle;\n",
       "    }\n",
       "\n",
       "    .dataframe tbody tr th {\n",
       "        vertical-align: top;\n",
       "    }\n",
       "\n",
       "    .dataframe thead th {\n",
       "        text-align: right;\n",
       "    }\n",
       "</style>\n",
       "<table border=\"1\" class=\"dataframe\">\n",
       "  <thead>\n",
       "    <tr style=\"text-align: right;\">\n",
       "      <th></th>\n",
       "      <th>A</th>\n",
       "      <th>B</th>\n",
       "      <th>C</th>\n",
       "      <th>D</th>\n",
       "    </tr>\n",
       "  </thead>\n",
       "  <tbody>\n",
       "    <tr>\n",
       "      <th>0</th>\n",
       "      <td>1</td>\n",
       "      <td>2</td>\n",
       "      <td>1</td>\n",
       "      <td>1</td>\n",
       "    </tr>\n",
       "    <tr>\n",
       "      <th>1</th>\n",
       "      <td>3</td>\n",
       "      <td>4</td>\n",
       "      <td>2</td>\n",
       "      <td>2</td>\n",
       "    </tr>\n",
       "  </tbody>\n",
       "</table>\n",
       "</div>"
      ],
      "text/plain": [
       "   A  B  C  D\n",
       "0  1  2  1  1\n",
       "1  3  4  2  2"
      ]
     },
     "execution_count": 288,
     "metadata": {},
     "output_type": "execute_result"
    }
   ],
   "source": [
    "asd"
   ]
  },
  {
   "cell_type": "markdown",
   "metadata": {},
   "source": [
    "### Merge daylight data"
   ]
  },
  {
   "cell_type": "code",
   "execution_count": 290,
   "metadata": {},
   "outputs": [],
   "source": [
    "import datetime\n",
    "from astral import Astral, Location, AstralError\n",
    "from dateutil.parser import parse\n",
    "from pytz import timezone"
   ]
  },
  {
   "cell_type": "code",
   "execution_count": 291,
   "metadata": {},
   "outputs": [],
   "source": [
    "a = Astral()\n",
    "\n",
    "pallas = Location()\n",
    "pallas.name = 'pallas'\n",
    "pallas.region = 'region'\n",
    "pallas.latitude = 68.158889\n",
    "pallas.longitude = 24.040278\n",
    "pallas.timezone = 'EET'\n",
    "pallas.elevation = 500"
   ]
  },
  {
   "cell_type": "code",
   "execution_count": 292,
   "metadata": {},
   "outputs": [],
   "source": [
    "nuuksio = Location()\n",
    "nuuksio.name = 'nuuksio'\n",
    "nuuksio.region = 'region'\n",
    "nuuksio.latitude = 60.307500\n",
    "nuuksio.longitude = 24.499167\n",
    "nuuksio.timezone = 'EET'\n",
    "nuuksio.elevation = 500\n",
    "\n",
    "locations = {\n",
    "    852: pallas,\n",
    "    34361: nuuksio\n",
    "}"
   ]
  },
  {
   "cell_type": "code",
   "execution_count": 323,
   "metadata": {},
   "outputs": [],
   "source": [
    "def sun_data(date_, loc):\n",
    "    try:\n",
    "        # d = parse(date_)\n",
    "        d = date_.replace(tzinfo=timezone('EET'))\n",
    "        sn = locations[loc].sun(d)\n",
    "        sn_hours = (sn['sunset']-sn['sunrise']).total_seconds()/3600\n",
    "        sn_current = ((d - sn['sunrise']).total_seconds() > 0 and (d - sn['sunset']).total_seconds() < 0) * 1\n",
    "        return str(sn_hours), str(sn_current)\n",
    "    except Exception as e:\n",
    "        return 0, 0"
   ]
  },
  {
   "cell_type": "code",
   "execution_count": 330,
   "metadata": {},
   "outputs": [],
   "source": [
    "def sn_hours(x):\n",
    "    try:\n",
    "        date1 = x['StartTime']\n",
    "        code = x['ASTA_Counters.NationalParkCode']\n",
    "\n",
    "        d = date1.replace(tzinfo=timezone('EET'))\n",
    "        sn = locations[code].sun(date1)\n",
    "        sn_hours = (sn['sunset']-sn['sunrise']).total_seconds()/3600\n",
    "        return sn_hours\n",
    "    except Exception as e:\n",
    "        return 0\n",
    "\n",
    "def lighty(x):\n",
    "    date1 = x['StartTime']\n",
    "    code = x['ASTA_Counters.NationalParkCode']\n",
    "    d = date1.replace(tzinfo=timezone('EET'))\n",
    "    sn_current = ((d - sn['sunrise']).total_seconds() > 0 and (d - sn['sunset']).total_seconds() < 0) * 1\n",
    "    return sn_current\n",
    "    "
   ]
  },
  {
   "cell_type": "code",
   "execution_count": 331,
   "metadata": {},
   "outputs": [],
   "source": [
    "df_jo['sn_hours'] = 0\n",
    "df_jo['is_lighty'] = 0"
   ]
  },
  {
   "cell_type": "code",
   "execution_count": 332,
   "metadata": {},
   "outputs": [],
   "source": [
    "df_jo['sn_hours'] = df_jo.apply(sn_hours, axis=1)"
   ]
  },
  {
   "cell_type": "code",
   "execution_count": 325,
   "metadata": {},
   "outputs": [
    {
     "data": {
      "text/plain": [
       "array([34361,   852])"
      ]
     },
     "execution_count": 325,
     "metadata": {},
     "output_type": "execute_result"
    }
   ],
   "source": [
    "df_jo['ASTA_Counters.NationalParkCode'].unique()"
   ]
  },
  {
   "cell_type": "code",
   "execution_count": 326,
   "metadata": {},
   "outputs": [
    {
     "ename": "ValueError",
     "evalue": "Must have equal len keys and value when setting with an iterable",
     "output_type": "error",
     "traceback": [
      "\u001b[0;31m---------------------------------------------------------------------------\u001b[0m",
      "\u001b[0;31mValueError\u001b[0m                                Traceback (most recent call last)",
      "\u001b[0;32m<ipython-input-326-6c01db690e20>\u001b[0m in \u001b[0;36m<module>\u001b[0;34m\u001b[0m\n\u001b[0;32m----> 1\u001b[0;31m \u001b[0mdf_jo\u001b[0m\u001b[0;34m[\u001b[0m\u001b[0;34m[\u001b[0m\u001b[0;34m'sn_hours'\u001b[0m\u001b[0;34m,\u001b[0m \u001b[0;34m'is_lighty'\u001b[0m\u001b[0;34m]\u001b[0m\u001b[0;34m]\u001b[0m \u001b[0;34m=\u001b[0m \u001b[0mdf_jo\u001b[0m\u001b[0;34m.\u001b[0m\u001b[0mapply\u001b[0m\u001b[0;34m(\u001b[0m\u001b[0;32mlambda\u001b[0m \u001b[0mx\u001b[0m\u001b[0;34m:\u001b[0m \u001b[0msun_data\u001b[0m\u001b[0;34m(\u001b[0m\u001b[0mx\u001b[0m\u001b[0;34m[\u001b[0m\u001b[0;34m'StartTime'\u001b[0m\u001b[0;34m]\u001b[0m\u001b[0;34m,\u001b[0m \u001b[0mx\u001b[0m\u001b[0;34m[\u001b[0m\u001b[0;34m'ASTA_Counters.NationalParkCode'\u001b[0m\u001b[0;34m]\u001b[0m\u001b[0;34m)\u001b[0m\u001b[0;34m,\u001b[0m \u001b[0maxis\u001b[0m\u001b[0;34m=\u001b[0m\u001b[0;36m1\u001b[0m\u001b[0;34m)\u001b[0m\u001b[0;34m\u001b[0m\u001b[0;34m\u001b[0m\u001b[0m\n\u001b[0m",
      "\u001b[0;32m/anaconda3/lib/python3.7/site-packages/pandas/core/frame.py\u001b[0m in \u001b[0;36m__setitem__\u001b[0;34m(self, key, value)\u001b[0m\n\u001b[1;32m   3365\u001b[0m             \u001b[0mself\u001b[0m\u001b[0;34m.\u001b[0m\u001b[0m_setitem_frame\u001b[0m\u001b[0;34m(\u001b[0m\u001b[0mkey\u001b[0m\u001b[0;34m,\u001b[0m \u001b[0mvalue\u001b[0m\u001b[0;34m)\u001b[0m\u001b[0;34m\u001b[0m\u001b[0;34m\u001b[0m\u001b[0m\n\u001b[1;32m   3366\u001b[0m         \u001b[0;32melif\u001b[0m \u001b[0misinstance\u001b[0m\u001b[0;34m(\u001b[0m\u001b[0mkey\u001b[0m\u001b[0;34m,\u001b[0m \u001b[0;34m(\u001b[0m\u001b[0mSeries\u001b[0m\u001b[0;34m,\u001b[0m \u001b[0mnp\u001b[0m\u001b[0;34m.\u001b[0m\u001b[0mndarray\u001b[0m\u001b[0;34m,\u001b[0m \u001b[0mlist\u001b[0m\u001b[0;34m,\u001b[0m \u001b[0mIndex\u001b[0m\u001b[0;34m)\u001b[0m\u001b[0;34m)\u001b[0m\u001b[0;34m:\u001b[0m\u001b[0;34m\u001b[0m\u001b[0;34m\u001b[0m\u001b[0m\n\u001b[0;32m-> 3367\u001b[0;31m             \u001b[0mself\u001b[0m\u001b[0;34m.\u001b[0m\u001b[0m_setitem_array\u001b[0m\u001b[0;34m(\u001b[0m\u001b[0mkey\u001b[0m\u001b[0;34m,\u001b[0m \u001b[0mvalue\u001b[0m\u001b[0;34m)\u001b[0m\u001b[0;34m\u001b[0m\u001b[0;34m\u001b[0m\u001b[0m\n\u001b[0m\u001b[1;32m   3368\u001b[0m         \u001b[0;32melse\u001b[0m\u001b[0;34m:\u001b[0m\u001b[0;34m\u001b[0m\u001b[0;34m\u001b[0m\u001b[0m\n\u001b[1;32m   3369\u001b[0m             \u001b[0;31m# set column\u001b[0m\u001b[0;34m\u001b[0m\u001b[0;34m\u001b[0m\u001b[0;34m\u001b[0m\u001b[0m\n",
      "\u001b[0;32m/anaconda3/lib/python3.7/site-packages/pandas/core/frame.py\u001b[0m in \u001b[0;36m_setitem_array\u001b[0;34m(self, key, value)\u001b[0m\n\u001b[1;32m   3393\u001b[0m                 \u001b[0mindexer\u001b[0m \u001b[0;34m=\u001b[0m \u001b[0mself\u001b[0m\u001b[0;34m.\u001b[0m\u001b[0mloc\u001b[0m\u001b[0;34m.\u001b[0m\u001b[0m_convert_to_indexer\u001b[0m\u001b[0;34m(\u001b[0m\u001b[0mkey\u001b[0m\u001b[0;34m,\u001b[0m \u001b[0maxis\u001b[0m\u001b[0;34m=\u001b[0m\u001b[0;36m1\u001b[0m\u001b[0;34m)\u001b[0m\u001b[0;34m\u001b[0m\u001b[0;34m\u001b[0m\u001b[0m\n\u001b[1;32m   3394\u001b[0m                 \u001b[0mself\u001b[0m\u001b[0;34m.\u001b[0m\u001b[0m_check_setitem_copy\u001b[0m\u001b[0;34m(\u001b[0m\u001b[0;34m)\u001b[0m\u001b[0;34m\u001b[0m\u001b[0;34m\u001b[0m\u001b[0m\n\u001b[0;32m-> 3395\u001b[0;31m                 \u001b[0mself\u001b[0m\u001b[0;34m.\u001b[0m\u001b[0mloc\u001b[0m\u001b[0;34m.\u001b[0m\u001b[0m_setitem_with_indexer\u001b[0m\u001b[0;34m(\u001b[0m\u001b[0;34m(\u001b[0m\u001b[0mslice\u001b[0m\u001b[0;34m(\u001b[0m\u001b[0;32mNone\u001b[0m\u001b[0;34m)\u001b[0m\u001b[0;34m,\u001b[0m \u001b[0mindexer\u001b[0m\u001b[0;34m)\u001b[0m\u001b[0;34m,\u001b[0m \u001b[0mvalue\u001b[0m\u001b[0;34m)\u001b[0m\u001b[0;34m\u001b[0m\u001b[0;34m\u001b[0m\u001b[0m\n\u001b[0m\u001b[1;32m   3396\u001b[0m \u001b[0;34m\u001b[0m\u001b[0m\n\u001b[1;32m   3397\u001b[0m     \u001b[0;32mdef\u001b[0m \u001b[0m_setitem_frame\u001b[0m\u001b[0;34m(\u001b[0m\u001b[0mself\u001b[0m\u001b[0;34m,\u001b[0m \u001b[0mkey\u001b[0m\u001b[0;34m,\u001b[0m \u001b[0mvalue\u001b[0m\u001b[0;34m)\u001b[0m\u001b[0;34m:\u001b[0m\u001b[0;34m\u001b[0m\u001b[0;34m\u001b[0m\u001b[0m\n",
      "\u001b[0;32m/anaconda3/lib/python3.7/site-packages/pandas/core/indexing.py\u001b[0m in \u001b[0;36m_setitem_with_indexer\u001b[0;34m(self, indexer, value)\u001b[0m\n\u001b[1;32m    609\u001b[0m \u001b[0;34m\u001b[0m\u001b[0m\n\u001b[1;32m    610\u001b[0m                     \u001b[0;32mif\u001b[0m \u001b[0mlen\u001b[0m\u001b[0;34m(\u001b[0m\u001b[0mlabels\u001b[0m\u001b[0;34m)\u001b[0m \u001b[0;34m!=\u001b[0m \u001b[0mlen\u001b[0m\u001b[0;34m(\u001b[0m\u001b[0mvalue\u001b[0m\u001b[0;34m)\u001b[0m\u001b[0;34m:\u001b[0m\u001b[0;34m\u001b[0m\u001b[0;34m\u001b[0m\u001b[0m\n\u001b[0;32m--> 611\u001b[0;31m                         raise ValueError('Must have equal len keys and value '\n\u001b[0m\u001b[1;32m    612\u001b[0m                                          'when setting with an iterable')\n\u001b[1;32m    613\u001b[0m \u001b[0;34m\u001b[0m\u001b[0m\n",
      "\u001b[0;31mValueError\u001b[0m: Must have equal len keys and value when setting with an iterable"
     ]
    }
   ],
   "source": [
    "df_jo[['sn_hours', 'is_lighty']] = df_jo.apply(lambda x: sun_data(x['StartTime'], x['ASTA_Counters.NationalParkCode']), axis=1)"
   ]
  },
  {
   "cell_type": "code",
   "execution_count": 314,
   "metadata": {},
   "outputs": [
    {
     "data": {
      "text/plain": [
       "(6.0744444444444445, 0)"
      ]
     },
     "execution_count": 314,
     "metadata": {},
     "output_type": "execute_result"
    }
   ],
   "source": [
    "sun_data(datetime.datetime(2019,1,1), 34361)"
   ]
  },
  {
   "cell_type": "code",
   "execution_count": 306,
   "metadata": {},
   "outputs": [],
   "source": [
    "a = datetime.datetime(2019,1,1, )"
   ]
  },
  {
   "cell_type": "code",
   "execution_count": 310,
   "metadata": {},
   "outputs": [
    {
     "ename": "AttributeError",
     "evalue": "attribute 'tzinfo' of 'datetime.datetime' objects is not writable",
     "output_type": "error",
     "traceback": [
      "\u001b[0;31m---------------------------------------------------------------------------\u001b[0m",
      "\u001b[0;31mAttributeError\u001b[0m                            Traceback (most recent call last)",
      "\u001b[0;32m<ipython-input-310-7f8ef283783e>\u001b[0m in \u001b[0;36m<module>\u001b[0;34m\u001b[0m\n\u001b[0;32m----> 1\u001b[0;31m \u001b[0ma\u001b[0m\u001b[0;34m.\u001b[0m\u001b[0mtzinfo\u001b[0m \u001b[0;34m=\u001b[0m \u001b[0;34m'EET'\u001b[0m\u001b[0;34m\u001b[0m\u001b[0;34m\u001b[0m\u001b[0m\n\u001b[0m",
      "\u001b[0;31mAttributeError\u001b[0m: attribute 'tzinfo' of 'datetime.datetime' objects is not writable"
     ]
    }
   ],
   "source": [
    "a.tzinfo = 'EET'"
   ]
  },
  {
   "cell_type": "code",
   "execution_count": null,
   "metadata": {},
   "outputs": [],
   "source": []
  },
  {
   "cell_type": "code",
   "execution_count": null,
   "metadata": {},
   "outputs": [],
   "source": []
  },
  {
   "cell_type": "code",
   "execution_count": null,
   "metadata": {},
   "outputs": [],
   "source": []
  }
 ],
 "metadata": {
  "kernelspec": {
   "display_name": "Python 3",
   "language": "python",
   "name": "python3"
  },
  "language_info": {
   "codemirror_mode": {
    "name": "ipython",
    "version": 3
   },
   "file_extension": ".py",
   "mimetype": "text/x-python",
   "name": "python",
   "nbconvert_exporter": "python",
   "pygments_lexer": "ipython3",
   "version": "3.7.3"
  }
 },
 "nbformat": 4,
 "nbformat_minor": 2
}
