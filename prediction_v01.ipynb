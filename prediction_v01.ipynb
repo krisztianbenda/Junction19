{
 "cells": [
  {
   "cell_type": "code",
   "execution_count": 18,
   "metadata": {},
   "outputs": [],
   "source": [
    "import pandas as pd\n",
    "from sklearn.preprocessing import LabelEncoder\n",
    "from sklearn.ensemble import GradientBoostingRegressor\n",
    "from sklearn.model_selection import train_test_split\n",
    "import datetime as dt\n",
    "import matplotlib.pyplot as plt\n",
    "import numpy as np"
   ]
  },
  {
   "cell_type": "code",
   "execution_count": 7,
   "metadata": {},
   "outputs": [],
   "source": [
    "df = pd.read_csv('aggregated_data_NEW.csv')"
   ]
  },
  {
   "cell_type": "code",
   "execution_count": 8,
   "metadata": {},
   "outputs": [],
   "source": [
    "df['StartTime'] = pd.to_datetime(df['StartTime'])\n",
    "df['EndTime'] = pd.to_datetime(df['EndTime'])"
   ]
  },
  {
   "cell_type": "code",
   "execution_count": 9,
   "metadata": {},
   "outputs": [],
   "source": [
    "df.sort_values(by=['CounterID_ASTA', 'StartTime'], ascending=True, inplace=True)"
   ]
  },
  {
   "cell_type": "code",
   "execution_count": 12,
   "metadata": {},
   "outputs": [],
   "source": [
    "cols_to_use = ['CounterID_ASTA', 'ASTA_Counters.NationalParkCode',\n",
    "               'precip_intensity', 'precip_type', 'precip_probability', 'temperature',\n",
    "               'humidity', 'wind_speed', 'wind_gust', 'cloud_cover', 'visibility',\n",
    "               'is_holiday', 'weekDayNumber', 'is_weekend', 'berry_season',\n",
    "               'mushroom_season', 'school_season', 'daylight_hours', 'is_lighty', \n",
    "               'Korpinkierros: (Finnország)', 'Haukkalampi: (Finnország)',\n",
    "               'Mustalampi: (Finnország)', 'Högbacka: (Finnország)',\n",
    "               'Kattila: (Finnország)', 'Siikaniemi: (Finnország)',\n",
    "               'Hotelli Nuuksio: (Finnország)', 'Holma-Saarijärvi: (Finnország)',\n",
    "               'Takala: (Finnország)', 'Veikkola: (Finnország)',\n",
    "               'luonto: (Finnország)', 'nature: (Finnország)',\n",
    "               'kansallispuisto: (Finnország)', 'walking: (Finnország)',\n",
    "               'hiking: (Finnország)', 'vaellus: (Finnország)', 'forest: (Finnország)',\n",
    "               'outdoor: (Finnország)', 'Ylläsjärvi: (Finnország)',\n",
    "               'Äkäslompolo: (Finnország)', 'Pallas: (Finnország)',\n",
    "               'Ylläs: (Finnország)',\n",
    "               'Pallas-Yllästunturi National Park: (Finnország)',\n",
    "               'post_park_relation',\n",
    "               'post_content_type', 'post_contains_link']\n",
    "\n",
    "target = 'Visits'"
   ]
  },
  {
   "cell_type": "code",
   "execution_count": 17,
   "metadata": {},
   "outputs": [],
   "source": [
    "shiftable_columns=['Korpinkierros: (Finnország)', 'Haukkalampi: (Finnország)',\n",
    "               'Mustalampi: (Finnország)', 'Högbacka: (Finnország)',\n",
    "               'Kattila: (Finnország)', 'Siikaniemi: (Finnország)',\n",
    "               'Hotelli Nuuksio: (Finnország)', 'Holma-Saarijärvi: (Finnország)',\n",
    "               'Takala: (Finnország)', 'Veikkola: (Finnország)',\n",
    "               'luonto: (Finnország)', 'nature: (Finnország)',\n",
    "               'kansallispuisto: (Finnország)', 'walking: (Finnország)',\n",
    "               'hiking: (Finnország)', 'vaellus: (Finnország)', 'forest: (Finnország)',\n",
    "               'outdoor: (Finnország)', 'Ylläsjärvi: (Finnország)',\n",
    "               'Äkäslompolo: (Finnország)', 'Pallas: (Finnország)',\n",
    "               'Ylläs: (Finnország)',\n",
    "               'Pallas-Yllästunturi National Park: (Finnország)',\n",
    "               'post_park_relation',\n",
    "               'post_content_type', 'post_contains_link']"
   ]
  },
  {
   "cell_type": "code",
   "execution_count": 19,
   "metadata": {},
   "outputs": [],
   "source": [
    "for col in shiftable_columns:\n",
    "    df[col+'_yesterday'] = np.nan"
   ]
  },
  {
   "cell_type": "code",
   "execution_count": 20,
   "metadata": {},
   "outputs": [],
   "source": [
    "shifted = [col+'_yesterday' for col in shiftable_columns]"
   ]
  },
  {
   "cell_type": "code",
   "execution_count": 23,
   "metadata": {},
   "outputs": [],
   "source": [
    "df[shifted] = df.groupby('CounterID_ASTA')[shiftable_columns].shift(-24)"
   ]
  },
  {
   "cell_type": "code",
   "execution_count": 55,
   "metadata": {},
   "outputs": [],
   "source": [
    "X = df.copy()\n",
    "y = df[target].copy()"
   ]
  },
  {
   "cell_type": "code",
   "execution_count": 56,
   "metadata": {},
   "outputs": [],
   "source": [
    "#post_park_relation\n",
    "X['post_park_relation'].replace('no_data', -9999, inplace=True)\n",
    "X['post_park_relation'] = X['post_park_relation'].astype('float')\n",
    "\n",
    "X['post_contains_link'].replace('N', 0, inplace=True)\n",
    "X['post_contains_link'].replace('Y', 1, inplace=True)\n",
    "X['post_contains_link'].replace('no_data', -9999, inplace=True)\n",
    "X['post_contains_link'] = X['post_contains_link'].astype('int')\n",
    "\n",
    "\n",
    "#precip_intensity, fillna: 0\n",
    "X['precip_intensity'].fillna(-9999, inplace=True)\n",
    "\n",
    "#precip_probability\n",
    "X['precip_probability'].fillna(-9999, inplace=True)\n",
    "\n",
    "#precip_type\n",
    "X['precip_type'].fillna('Nincs', inplace=True)\n",
    "\n",
    "#temperature\n",
    "X['temperature'].fillna(method='ffill', inplace=True)\n",
    "\n",
    "#humidity\n",
    "X['humidity'].fillna(method='ffill', inplace=True)\n",
    "\n",
    "#wind_speed\n",
    "X['wind_speed'].fillna(-9999, inplace=True)\n",
    "\n",
    "#wind_gust\n",
    "X['wind_gust'].fillna(-9999, inplace=True)\n",
    "\n",
    "#cloud_cover\n",
    "X['cloud_cover'].fillna(-9999, inplace=True)\n",
    "\n",
    "#visibility\n",
    "X['visibility'].fillna(-9999, inplace=True)"
   ]
  },
  {
   "cell_type": "code",
   "execution_count": 57,
   "metadata": {},
   "outputs": [],
   "source": [
    "le = LabelEncoder()\n",
    "X['precip_type'] = le.fit_transform(X['precip_type'])\n",
    "\n",
    "le2 = LabelEncoder()\n",
    "X['post_content_type'] = le2.fit_transform(X['post_content_type'])"
   ]
  },
  {
   "cell_type": "code",
   "execution_count": 58,
   "metadata": {},
   "outputs": [],
   "source": [
    "X.dropna(axis=0, inplace=True)"
   ]
  },
  {
   "cell_type": "code",
   "execution_count": 59,
   "metadata": {},
   "outputs": [],
   "source": [
    "le2 = LabelEncoder()\n",
    "X['post_content_type_yesterday'] = le2.fit_transform(X['post_content_type_yesterday'])"
   ]
  },
  {
   "cell_type": "code",
   "execution_count": 60,
   "metadata": {},
   "outputs": [],
   "source": [
    "#post_park_relation\n",
    "X['post_park_relation_yesterday'].replace('no_data', -9999, inplace=True)\n",
    "X['post_park_relation_yesterday'] = X['post_park_relation_yesterday'].astype('float')\n",
    "\n",
    "X['post_contains_link_yesterday'].replace('N', 0, inplace=True)\n",
    "X['post_contains_link_yesterday'].replace('Y', 1, inplace=True)\n",
    "X['post_contains_link_yesterday'].replace('no_data', -9999, inplace=True)\n",
    "X['post_contains_link_yesterday'] = X['post_contains_link_yesterday'].astype('int')"
   ]
  },
  {
   "cell_type": "code",
   "execution_count": 61,
   "metadata": {},
   "outputs": [],
   "source": [
    "X.dropna(axis=0, inplace=True)"
   ]
  },
  {
   "cell_type": "code",
   "execution_count": 62,
   "metadata": {},
   "outputs": [
    {
     "data": {
      "text/plain": [
       "(356036, 74)"
      ]
     },
     "execution_count": 62,
     "metadata": {},
     "output_type": "execute_result"
    }
   ],
   "source": [
    "X.shape"
   ]
  },
  {
   "cell_type": "code",
   "execution_count": 63,
   "metadata": {},
   "outputs": [],
   "source": [
    "cols_new = ['CounterID_ASTA', 'ASTA_Counters.NationalParkCode',\n",
    "               'precip_intensity', 'precip_type', 'precip_probability', 'temperature',\n",
    "               'humidity', 'wind_speed', 'wind_gust', 'cloud_cover', 'visibility',\n",
    "               'is_holiday', 'weekDayNumber', 'is_weekend', 'berry_season',\n",
    "               'mushroom_season', 'school_season', 'daylight_hours', 'is_lighty']"
   ]
  },
  {
   "cell_type": "code",
   "execution_count": 64,
   "metadata": {},
   "outputs": [],
   "source": [
    "cols_new += shifted"
   ]
  },
  {
   "cell_type": "code",
   "execution_count": 65,
   "metadata": {},
   "outputs": [],
   "source": [
    "X_train = X.iloc[:280000,:].copy()\n",
    "y_train = y[:280000].copy()\n",
    "X_test = X.iloc[280000:,:].copy()\n",
    "y_test = y[280000:].copy()"
   ]
  },
  {
   "cell_type": "code",
   "execution_count": 66,
   "metadata": {},
   "outputs": [],
   "source": [
    "model = GradientBoostingRegressor(n_estimators=600, random_state=42)"
   ]
  },
  {
   "cell_type": "code",
   "execution_count": 67,
   "metadata": {},
   "outputs": [
    {
     "data": {
      "text/plain": [
       "GradientBoostingRegressor(alpha=0.9, criterion='friedman_mse', init=None,\n",
       "             learning_rate=0.1, loss='ls', max_depth=3, max_features=None,\n",
       "             max_leaf_nodes=None, min_impurity_decrease=0.0,\n",
       "             min_impurity_split=None, min_samples_leaf=1,\n",
       "             min_samples_split=2, min_weight_fraction_leaf=0.0,\n",
       "             n_estimators=600, n_iter_no_change=None, presort='auto',\n",
       "             random_state=42, subsample=1.0, tol=0.0001,\n",
       "             validation_fraction=0.1, verbose=0, warm_start=False)"
      ]
     },
     "execution_count": 67,
     "metadata": {},
     "output_type": "execute_result"
    }
   ],
   "source": [
    "model.fit(X_train[cols_new], y_train)"
   ]
  },
  {
   "cell_type": "code",
   "execution_count": 68,
   "metadata": {},
   "outputs": [],
   "source": [
    "X_test['true'] = y_test.copy()\n",
    "X_test['pred'] = model.predict(X_test[cols_new])"
   ]
  },
  {
   "cell_type": "code",
   "execution_count": 69,
   "metadata": {},
   "outputs": [],
   "source": [
    "import matplotlib.pyplot as plt\n",
    "%matplotlib inline"
   ]
  },
  {
   "cell_type": "code",
   "execution_count": 70,
   "metadata": {},
   "outputs": [
    {
     "data": {
      "text/plain": [
       "<matplotlib.collections.PathCollection at 0x1a2e146908>"
      ]
     },
     "execution_count": 70,
     "metadata": {},
     "output_type": "execute_result"
    },
    {
     "data": {
      "image/png": "[encoded data removed]",
      "text/plain": [
       "<Figure size 432x288 with 1 Axes>"
      ]
     },
     "metadata": {
      "needs_background": "light"
     },
     "output_type": "display_data"
    }
   ],
   "source": [
    "plt.scatter(X_test['true'], X_test['pred'])"
   ]
  },
  {
   "cell_type": "code",
   "execution_count": 72,
   "metadata": {},
   "outputs": [],
   "source": [
    "X_test['pred'] = X_test['pred'].apply(lambda x: 0 if x<0 else x)"
   ]
  },
  {
   "cell_type": "code",
   "execution_count": 73,
   "metadata": {},
   "outputs": [
    {
     "data": {
      "text/plain": [
       "<matplotlib.collections.PathCollection at 0x1a40d6fcc0>"
      ]
     },
     "execution_count": 73,
     "metadata": {},
     "output_type": "execute_result"
    },
    {
     "data": {
      "image/png": "[encoded data removed]",
      "text/plain": [
       "<Figure size 432x288 with 1 Axes>"
      ]
     },
     "metadata": {
      "needs_background": "light"
     },
     "output_type": "display_data"
    }
   ],
   "source": [
    "plt.scatter(X_test['true'], X_test['pred'])"
   ]
  },
  {
   "cell_type": "code",
   "execution_count": 75,
   "metadata": {},
   "outputs": [
    {
     "data": {
      "text/plain": [
       "<matplotlib.collections.PathCollection at 0x1a280f1c50>"
      ]
     },
     "execution_count": 75,
     "metadata": {},
     "output_type": "execute_result"
    },
    {
     "data": {
      "image/png": "[encoded data removed]",
      "text/plain": [
       "<Figure size 432x288 with 1 Axes>"
      ]
     },
     "metadata": {
      "needs_background": "light"
     },
     "output_type": "display_data"
    }
   ],
   "source": [
    "df_filtered = X_test[X_test['true']<20].copy()\n",
    "plt.scatter(df_filtered['true'], df_filtered['pred'])"
   ]
  },
  {
   "cell_type": "code",
   "execution_count": 77,
   "metadata": {},
   "outputs": [],
   "source": [
    "df_importance = pd.DataFrame(model.feature_importances_, index=cols_new)"
   ]
  },
  {
   "cell_type": "code",
   "execution_count": 80,
   "metadata": {},
   "outputs": [],
   "source": [
    "filtered_cols = df_importance.sort_values(by=0, ascending=False).head(5).index.tolist()"
   ]
  },
  {
   "cell_type": "code",
   "execution_count": 81,
   "metadata": {},
   "outputs": [],
   "source": [
    "new_model = GradientBoostingRegressor(n_estimators=600, random_state=42)"
   ]
  },
  {
   "cell_type": "code",
   "execution_count": 82,
   "metadata": {},
   "outputs": [
    {
     "data": {
      "text/plain": [
       "GradientBoostingRegressor(alpha=0.9, criterion='friedman_mse', init=None,\n",
       "             learning_rate=0.1, loss='ls', max_depth=3, max_features=None,\n",
       "             max_leaf_nodes=None, min_impurity_decrease=0.0,\n",
       "             min_impurity_split=None, min_samples_leaf=1,\n",
       "             min_samples_split=2, min_weight_fraction_leaf=0.0,\n",
       "             n_estimators=600, n_iter_no_change=None, presort='auto',\n",
       "             random_state=42, subsample=1.0, tol=0.0001,\n",
       "             validation_fraction=0.1, verbose=0, warm_start=False)"
      ]
     },
     "execution_count": 82,
     "metadata": {},
     "output_type": "execute_result"
    }
   ],
   "source": [
    "new_model.fit(X_train[filtered_cols], y_train)"
   ]
  },
  {
   "cell_type": "code",
   "execution_count": 83,
   "metadata": {},
   "outputs": [],
   "source": [
    "X_test['true'] = y_test.copy()\n",
    "X_test['pred'] = new_model.predict(X_test[filtered_cols])"
   ]
  },
  {
   "cell_type": "code",
   "execution_count": 84,
   "metadata": {},
   "outputs": [],
   "source": [
    "X_test['pred'] = X_test['pred'].apply(lambda x: 0 if x<0 else x)"
   ]
  },
  {
   "cell_type": "code",
   "execution_count": 85,
   "metadata": {},
   "outputs": [
    {
     "data": {
      "text/plain": [
       "<matplotlib.collections.PathCollection at 0x1a26841cc0>"
      ]
     },
     "execution_count": 85,
     "metadata": {},
     "output_type": "execute_result"
    },
    {
     "data": {
      "image/png": "[encoded data removed]",
      "text/plain": [
       "<Figure size 432x288 with 1 Axes>"
      ]
     },
     "metadata": {
      "needs_background": "light"
     },
     "output_type": "display_data"
    }
   ],
   "source": [
    "plt.scatter(X_test['true'], X_test['pred'])"
   ]
  },
  {
   "cell_type": "code",
   "execution_count": 89,
   "metadata": {},
   "outputs": [],
   "source": [
    "last_rows = X_test.iloc[-347:,:].copy()"
   ]
  },
  {
   "cell_type": "code",
   "execution_count": 90,
   "metadata": {},
   "outputs": [],
   "source": [
    "last_rows.reset_index(drop=True, inplace=True)"
   ]
  },
  {
   "cell_type": "code",
   "execution_count": 95,
   "metadata": {},
   "outputs": [],
   "source": [
    "cols_to_save = filtered_cols + ['true', 'pred', 'StartTime']"
   ]
  },
  {
   "cell_type": "code",
   "execution_count": 96,
   "metadata": {},
   "outputs": [],
   "source": [
    "last_rows[cols_to_save].to_csv('RESULT.csv', index=False)"
   ]
  },
  {
   "cell_type": "code",
   "execution_count": null,
   "metadata": {},
   "outputs": [],
   "source": []
  }
 ],
 "metadata": {
  "kernelspec": {
   "display_name": "Python 3",
   "language": "python",
   "name": "python3"
  },
  "language_info": {
   "codemirror_mode": {
    "name": "ipython",
    "version": 3
   },
   "file_extension": ".py",
   "mimetype": "text/x-python",
   "name": "python",
   "nbconvert_exporter": "python",
   "pygments_lexer": "ipython3",
   "version": "3.7.3"
  }
 },
 "nbformat": 4,
 "nbformat_minor": 2
}
